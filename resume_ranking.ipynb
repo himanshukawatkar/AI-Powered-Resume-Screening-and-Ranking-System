{
 "cells": [
  {
   "cell_type": "code",
   "execution_count": 3,
   "id": "2a4505d6-fea5-45ee-8dff-a111373ecf85",
   "metadata": {},
   "outputs": [],
   "source": [
    "import streamlit as st\n",
    "from PyPDF2 import PdfReader\n",
    "import pandas as pd \n",
    "from sklearn.feature_extraction.text import TfidfVectorizer\n",
    "from sklearn.metrics.pairwise import cosine_similarity"
   ]
  },
  {
   "cell_type": "code",
   "execution_count": 4,
   "id": "e2ebd077-8176-4432-8ec1-b715be72e533",
   "metadata": {},
   "outputs": [],
   "source": [
    "def extract_text_from_pdf(file):\n",
    "    pdf = PdfReader(file)\n",
    "    text = \"\"\n",
    "    for page in pdf.pages:\n",
    "        text += page.extract_text()\n",
    "    return text"
   ]
  },
  {
   "cell_type": "code",
   "execution_count": 11,
   "id": "dac309f9-cff0-4875-a5aa-4d7f63cad31f",
   "metadata": {},
   "outputs": [],
   "source": [
    "def rank_resumes(job_description, resumes):\n",
    "    documents [job_description] + resumes\n",
    "    vectorizer = TfidfVectorizer().fit_transform(documents)\n",
    "    vectors = vectorizer.toarray()\n",
    "    job_description_vector = vectors[0]\n",
    "    resume_vectors = vectors [1:]\n",
    "    cosine_similarities = cosine_similarity ([job_description_vector],resume_vectors).flatten()\n",
    "    return cosine_similarities"
   ]
  },
  {
   "cell_type": "code",
   "execution_count": 12,
   "id": "e1da160d-c1f4-4aa0-9d45-d473f13339db",
   "metadata": {},
   "outputs": [],
   "source": [
    "st.title(\"AI Resume Screening & Candidate Ranking System\")\n",
    "st.header(\"Job Description\")\n",
    "job_description= st.text_area (\"Enter the job description\")"
   ]
  },
  {
   "cell_type": "code",
   "execution_count": 14,
   "id": "5c05a033-eadd-4341-88c7-e2c9c3e20144",
   "metadata": {},
   "outputs": [],
   "source": [
    "st.header(\"Upload Resumes\")\n",
    "uploaded_files = st.file_uploader(\"Upload PDF files\", type=[\"pdf\"],accept_multiple_files=True)"
   ]
  },
  {
   "cell_type": "code",
   "execution_count": 17,
   "id": "1a291118-5c60-4689-943f-bc0f87906e79",
   "metadata": {},
   "outputs": [],
   "source": [
    "if uploaded_files and job_description:\n",
    "    st.header(\"Ranking Resumes\")\n",
    "    resumes = []\n",
    "    for file in uploaded_files:\n",
    "        text = extract_text_from_pdf(file)\n",
    "        resumes.append(text)\n",
    "        scores = rank_resumes(job_description, resumes)\n",
    "        results = pd.DataFrame({\"Resume\": [file.name for file in uploaded_files],\"score\": score })\n",
    "        results = results.sort_values(by=\"score\", ascending=False)\n",
    "        st.write(results)\n"
   ]
  },
  {
   "cell_type": "code",
   "execution_count": null,
   "id": "5acf8227-96d3-461c-9a39-bbc728227f05",
   "metadata": {},
   "outputs": [],
   "source": []
  }
 ],
 "metadata": {
  "kernelspec": {
   "display_name": "Python 3 (ipykernel)",
   "language": "python",
   "name": "python3"
  },
  "language_info": {
   "codemirror_mode": {
    "name": "ipython",
    "version": 3
   },
   "file_extension": ".py",
   "mimetype": "text/x-python",
   "name": "python",
   "nbconvert_exporter": "python",
   "pygments_lexer": "ipython3",
   "version": "3.12.7"
  }
 },
 "nbformat": 4,
 "nbformat_minor": 5
}
